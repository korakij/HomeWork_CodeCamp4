{
  "nbformat": 4,
  "nbformat_minor": 0,
  "metadata": {
    "colab": {
      "name": "Exercise Python Week 1-1.ipynb",
      "provenance": [],
      "collapsed_sections": [],
      "toc_visible": true,
      "authorship_tag": "ABX9TyMOWyxWEKyRCgAU1EL6aIh+",
      "include_colab_link": true
    },
    "kernelspec": {
      "name": "python3",
      "display_name": "Python 3"
    }
  },
  "cells": [
    {
      "cell_type": "markdown",
      "metadata": {
        "id": "view-in-github",
        "colab_type": "text"
      },
      "source": [
        "<a href=\"https://colab.research.google.com/github/korakij/HomeWork_CodeCamp4/blob/master/Exercise_Python_Week_1_1.ipynb\" target=\"_parent\"><img src=\"https://colab.research.google.com/assets/colab-badge.svg\" alt=\"Open In Colab\"/></a>"
      ]
    },
    {
      "cell_type": "markdown",
      "metadata": {
        "id": "JxKE7mZ05eTU",
        "colab_type": "text"
      },
      "source": [
        "1 - 5"
      ]
    },
    {
      "cell_type": "code",
      "metadata": {
        "id": "8z4YbB7615lL",
        "colab_type": "code",
        "outputId": "a8f3d234-b70e-4fb7-d3c9-23f000cc69da",
        "colab": {
          "base_uri": "https://localhost:8080/",
          "height": 102
        }
      },
      "source": [
        "print(\"Merry X'Mas\")\n",
        "print(\"What's happend?\")\n",
        "print(\"สวัสดีวันจันทร์\")\n",
        "print('ความแตกต่างระหว่างคนเก่งกับคนไม่เก่ง คือ \"การใช้เวลาว่างให้เป็นประโยชน์\"')\n",
        "print('apple, papaya, banana, orange')"
      ],
      "execution_count": 0,
      "outputs": [
        {
          "output_type": "stream",
          "text": [
            "Merry X'Mas\n",
            "What's happend?\n",
            "สวัสดีวันจันทร์\n",
            "ความแตกต่างระหว่างคนเก่งกับคนไม่เก่ง คือ \"การใช้เวลาว่างให้เป็นประโยชน์\"\n",
            "apple, papaya, banana, orange\n"
          ],
          "name": "stdout"
        }
      ]
    },
    {
      "cell_type": "markdown",
      "metadata": {
        "id": "KtYHmwvt5j4q",
        "colab_type": "text"
      },
      "source": [
        "6."
      ]
    },
    {
      "cell_type": "code",
      "metadata": {
        "id": "K2N7RPgA2O5M",
        "colab_type": "code",
        "outputId": "d75eac36-dc24-4132-dcef-fd9abac465db",
        "colab": {
          "base_uri": "https://localhost:8080/",
          "height": 34
        }
      },
      "source": [
        " a = 2\n",
        " b = 3\n",
        " print(a,'x',b,'=',a*b)"
      ],
      "execution_count": 0,
      "outputs": [
        {
          "output_type": "stream",
          "text": [
            "2 x 3 = 6\n"
          ],
          "name": "stdout"
        }
      ]
    },
    {
      "cell_type": "markdown",
      "metadata": {
        "id": "AjJcFNV85pU4",
        "colab_type": "text"
      },
      "source": [
        "7.-9."
      ]
    },
    {
      "cell_type": "code",
      "metadata": {
        "id": "r_WEutc34KCW",
        "colab_type": "code",
        "outputId": "6a73fb6b-25bc-48d1-d7ba-dde518e69167",
        "colab": {
          "base_uri": "https://localhost:8080/",
          "height": 68
        }
      },
      "source": [
        "import math\n",
        "print(math.pi)\n",
        "print(\"%.6f\" % 100)\n",
        "print(25)"
      ],
      "execution_count": 0,
      "outputs": [
        {
          "output_type": "stream",
          "text": [
            "3.141592653589793\n",
            "100.000000\n",
            "25\n"
          ],
          "name": "stdout"
        }
      ]
    },
    {
      "cell_type": "markdown",
      "metadata": {
        "id": "ltJIbd7e7X5z",
        "colab_type": "text"
      },
      "source": [
        "10 - 17."
      ]
    },
    {
      "cell_type": "code",
      "metadata": {
        "id": "V5gDfkt35GRp",
        "colab_type": "code",
        "outputId": "6b9a3e10-b65f-4cc2-abf2-5aa2e674ea82",
        "colab": {
          "base_uri": "https://localhost:8080/",
          "height": 391
        }
      },
      "source": [
        "print('a\\nan\\nant\\n')\n",
        "print('\\t*\\n*\\t*\\t*\\n\\t*\\n')\n",
        "print('*\\t+\\t*\\n\\n+\\t*\\t+\\n\\n*\\t+\\t*\\n')\n",
        "print('I want to ask you \"Why don\\'t you drive to work?\"\\n')\n",
        "print('\"I don\\'t have a car\"\\n')\n",
        "print('\\t/\\\\/\\\\/\\\\\\n\\t/\\\\/\\\\/\\\\\\n\\t||||||\\n')"
      ],
      "execution_count": 0,
      "outputs": [
        {
          "output_type": "stream",
          "text": [
            "a\n",
            "an\n",
            "ant\n",
            "\n",
            "\t*\n",
            "*\t*\t*\n",
            "\t*\n",
            "\n",
            "*\t+\t*\n",
            "\n",
            "+\t*\t+\n",
            "\n",
            "*\t+\t*\n",
            "\n",
            "I want to ask you \"Why don't you drive to work?\"\n",
            "\n",
            "\"I don't have a car\"\n",
            "\n",
            "\t/\\/\\/\\\n",
            "\t/\\/\\/\\\n",
            "\t||||||\n",
            "\n"
          ],
          "name": "stdout"
        }
      ]
    }
  ]
}